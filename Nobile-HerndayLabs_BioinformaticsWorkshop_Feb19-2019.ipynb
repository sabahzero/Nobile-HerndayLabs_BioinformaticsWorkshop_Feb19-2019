{
 "cells": [
  {
   "cell_type": "code",
   "execution_count": null,
   "metadata": {},
   "outputs": [],
   "source": [
    "# Nobile-Hernday Lab, Bioinformatics Workshopp (Feb 19, 2019)\n",
    "# R language\n",
    "\n",
    "# Written by Sabah Ul-Hasan ...\n",
    "# Edited by ...\n",
    "# Corresponding Github repo\n",
    "# https://github.com/sabahzero/Nobile-HerndayLabs_BioinformaticsWorkshop_Feb19-2019"
   ]
  },
  {
   "cell_type": "code",
   "execution_count": null,
   "metadata": {},
   "outputs": [],
   "source": [
    "# 9:00 - 9:30 AM (Arrive at 9:30 AM if you already have these installed successfully)\n",
    "\n",
    "## Checkpoint 1 []\n",
    "# First, download Jupyter Notebook to your computer\n",
    "# MERCED cluster will soon link to Jupyter Hub so you can log-in directly through a browser \n",
    "# Until then, we will use our own computers\n",
    "# https://jupyter.org/install\n",
    "\n",
    "## Checkpoint 2 []\n",
    "# Now, install an option to allow your notebook to have both python and R\n",
    "# Right now it only has python (which is fine, depending on what you prefer)\n",
    "# This notebook has been written in R, so if you use python you will need to adjust\n",
    "# https://www.datacamp.com/community/blog/jupyter-notebook-r \n",
    "\n",
    "## Checkpoint 3 []\n",
    "# Type 'jupyter notebook' in your command line\n",
    "# Notice you must be connected to internet to use your Jupyter notebook\n",
    "# Click on your 'Desktop' folder on the Home page\n",
    "# Create a new folder within Desktop, name it whatever you like\n",
    "# I've named mine \"Feb19_Nobile-Hernday_Workshop\"\n",
    "# Now, download this file (which is a Jupyter notebook) and upload it into that folder using the browser\n",
    "# Go to your Desktop on your computer and click on the \"Feb19_Nobile-Hernday_Workshop\" folder\n",
    "# Do you see a folder inside titled \"Nobile-HerndayLabs_BioinformaticsWorkshop_Feb19-2019.ipynb\" ?\n",
    "# Nice!\n",
    "\n",
    "## Checkpoint 4 []\n",
    "#### Akshay - want to put commands here for people to use their terminal?\n",
    "# Now we're going to take this a step further\n",
    "# We could've done Checkpoint 3 using command line\n",
    "# We want to download the data from the github repo in folder \"Data_RNA-Seq_DE-Output\"\n",
    "# Let's use the command line to do this\n",
    "#### Akshay - want to put commands here for people to use their terminal?\n",
    "# Go to your Desktop on your computer and click on the \"Feb19_Nobile-Hernday_Workshop\" folder\n",
    "# Do you see a folder inside titled \"Data_RNA-Seq_DE-Output\" ?\n",
    "# The folder should contain two .csv files (they are biological replicates for an RNA-Seq run on CAY540)\n",
    "# Nice!"
   ]
  },
  {
   "cell_type": "code",
   "execution_count": null,
   "metadata": {},
   "outputs": [],
   "source": [
    "# 9:30 - 10:30 AM Basics, creating bar plots with standard error, changing color schemes, etc\n",
    "\n",
    "## Checkpoint 5 []\n",
    "# Let's go back to our notebook so we can see why we'd rather use it on the browser than command line for visualizing\n",
    "# Q: Why do we use the Jupyter notebook for R, command line, and Github?? \n",
    "# Why not just use one?? Why not just use R markdown?\n",
    "\n",
    "# [Sabah is workong on these, will update in the afternoon]"
   ]
  },
  {
   "cell_type": "code",
   "execution_count": null,
   "metadata": {},
   "outputs": [],
   "source": [
    "# 10:30 - 11:00 AM Overview of the MERCED cluster, how to use it through command line, why and general Q&A "
   ]
  }
 ],
 "metadata": {
  "kernelspec": {
   "display_name": "R",
   "language": "R",
   "name": "ir"
  },
  "language_info": {
   "codemirror_mode": "r",
   "file_extension": ".r",
   "mimetype": "text/x-r-source",
   "name": "R",
   "pygments_lexer": "r",
   "version": "3.5.1"
  }
 },
 "nbformat": 4,
 "nbformat_minor": 2
}
