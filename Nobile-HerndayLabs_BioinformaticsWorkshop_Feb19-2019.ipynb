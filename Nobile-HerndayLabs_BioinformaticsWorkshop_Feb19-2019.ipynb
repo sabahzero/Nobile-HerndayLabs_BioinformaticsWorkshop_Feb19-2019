{
 "cells": [
  {
   "cell_type": "code",
   "execution_count": null,
   "metadata": {},
   "outputs": [],
   "source": [
    "# Written by Sabah Ul-Hasan, R language\n",
    "# Corresponding Github repo\n",
    "# https://github.com/sabahzero/Nobile-HerndayLabs_BioinformaticsWorkshop_Feb19-2019/blob/master/README.md\n",
    "\n",
    "\n",
    "\n",
    "### 9:00 - 9:30 AM (Arrive at 9:30 AM if you already have these installed successfully) ###\n",
    "\n",
    "## Checkpoint 1\n",
    "# First, download Jupyter Notebook to your computer\n",
    "# FYI this will soon be linked to the MERCED cluster as a Jupyter Hub so you can log-in through a browser \n",
    "# Until then, we will use our own computers\n",
    "# https://jupyter.org/install\n",
    "\n",
    "## Checkpoint 2\n",
    "# Now, install an option to allow your notebook to have both python and R\n",
    "# https://www.datacamp.com/community/blog/jupyter-notebook-r \n",
    "\n",
    "## Checkpoint 3\n",
    "# Type 'jupyter notebook' in your command line\n",
    "# Create a folder, name it whatever you like\n",
    "# Create a new notebook within that folder, name with whatever you like\n",
    "# "
   ]
  }
 ],
 "metadata": {
  "kernelspec": {
   "display_name": "R",
   "language": "R",
   "name": "ir"
  },
  "language_info": {
   "codemirror_mode": "r",
   "file_extension": ".r",
   "mimetype": "text/x-r-source",
   "name": "R",
   "pygments_lexer": "r",
   "version": "3.5.1"
  }
 },
 "nbformat": 4,
 "nbformat_minor": 2
}
